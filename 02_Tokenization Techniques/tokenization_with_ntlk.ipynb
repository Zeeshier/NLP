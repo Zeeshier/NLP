{
 "cells": [
  {
   "cell_type": "markdown",
   "id": "d0374c17",
   "metadata": {},
   "source": [
    "# What is Tokenization?\n",
    "Tokenization is the process of splitting text into smaller units called tokens. Tokens can be:\n",
    "\n",
    "- Words (word-level tokenization)\n",
    "\n",
    "- Sentences (sentence-level tokenization)\n",
    "\n",
    "- Subwords or characters (subword/character-level)\n",
    "\n"
   ]
  },
  {
   "cell_type": "markdown",
   "id": "a5e07f4f",
   "metadata": {},
   "source": [
    "### Common Tokenization Techniques\n",
    "\n",
    "**Whitespace Tokenization:** Splits text by spaces. Simple but may miss punctuation.\n",
    "\n",
    "**Regex Tokenization:**\tUses regular expressions to define custom token patterns.\n",
    "\n",
    "**NLTK Tokenization:**\tUses pretrained models in NLTK for more accurate token splitting.\n",
    "\n",
    "**Subword Tokenization (BPE, WordPiece):**\tBreaks down rare or unknown words into meaningful subword units.\n",
    "\n",
    "**Sentence Tokenization:**\tSplits text into sentences using punctuation and linguistic rules.\n"
   ]
  },
  {
   "cell_type": "markdown",
   "id": "d94f3314",
   "metadata": {},
   "source": [
    "### Why Tokenize\n",
    "\n",
    "* Easier to map part of speech\n",
    "* Matching common words\n",
    "* Removing unwanted tokens\n",
    "\n",
    "`Example:`\n",
    "\n",
    "I don't like Sam's shoes.\n",
    "\n",
    "\"I\", \"do\", \"n't\", \"like\", \"Sam\", \"s\", \"shoes\", \".\""
   ]
  },
  {
   "cell_type": "markdown",
   "id": "a057d645",
   "metadata": {},
   "source": [
    "### NLTK Tokenizers\n",
    "\n",
    "`word_tokenize:` Splits text into individual words using pre-trained tokenization rules.\n",
    "\n",
    "`sent_tokenize:` Divides a paragraph or document into individual sentences.\n",
    "\n",
    "`regexp_tokenize:` Tokenizes text based on custom regular expression patterns.\n",
    "\n",
    "`TweetTokenizer:` Specifically designed to tokenize tweets, handling hashtags, mentions, emojis, and informal language effectively."
   ]
  },
  {
   "cell_type": "markdown",
   "id": "6f7d419b",
   "metadata": {},
   "source": [
    "## Example Using NLTK in Python"
   ]
  },
  {
   "cell_type": "code",
   "execution_count": 23,
   "id": "a8cc8244",
   "metadata": {},
   "outputs": [
    {
     "name": "stderr",
     "output_type": "stream",
     "text": [
      "[nltk_data] Downloading package punkt_tab to C:/nltk_data...\n",
      "[nltk_data]   Unzipping tokenizers\\punkt_tab.zip.\n",
      "[nltk_data] Downloading package punkt to C:/nltk_data...\n",
      "[nltk_data]   Package punkt is already up-to-date!\n"
     ]
    },
    {
     "data": {
      "text/plain": [
       "True"
      ]
     },
     "execution_count": 23,
     "metadata": {},
     "output_type": "execute_result"
    }
   ],
   "source": [
    "import nltk\n",
    "nltk.download('punkt_tab', download_dir='C:/nltk_data')\n",
    "nltk.download('punkt', download_dir='C:/nltk_data')"
   ]
  },
  {
   "cell_type": "code",
   "execution_count": 27,
   "id": "aafd4fe2",
   "metadata": {},
   "outputs": [
    {
     "name": "stdout",
     "output_type": "stream",
     "text": [
      "Sentence Tokenization:\n",
      "['Dr. Smith loves NLP.', \"He's teaching it at the university!\"]\n",
      "\n",
      "Word Tokenization:\n",
      "['Dr.', 'Smith', 'loves', 'NLP', '.', 'He', \"'s\", 'teaching', 'it', 'at', 'the', 'university', '!']\n",
      "\n",
      "Regex Tokenization:\n",
      "['Dr', 'Smith', 'loves', 'NLP', 'He', 's', 'teaching', 'it', 'at', 'the', 'university']\n",
      "\n",
      "Tweet Tokenization:\n",
      "['Loving', 'the', 'new', 'features', 'in', '#Python3', '.', '12', '!', '😍', '🔥', 'Check', 'it', 'out', ':', 'https://python.org', '@ThePSF']\n"
     ]
    }
   ],
   "source": [
    "from nltk.tokenize import word_tokenize, sent_tokenize, regexp_tokenize, TweetTokenizer\n",
    "\n",
    "# Sample text\n",
    "text = \"Dr. Smith loves NLP. He's teaching it at the university!\"\n",
    "\n",
    "# Sentence Tokenization\n",
    "sentences = sent_tokenize(text)\n",
    "print(\"Sentence Tokenization:\")\n",
    "print(sentences)\n",
    "\n",
    "# Word Tokenization\n",
    "words = word_tokenize(text)\n",
    "print(\"\\nWord Tokenization:\")\n",
    "print(words)\n",
    "\n",
    "# Regex Tokenization (e.g., extract words only)\n",
    "regex_words = regexp_tokenize(text, pattern=r'\\w+')\n",
    "print(\"\\nRegex Tokenization:\")\n",
    "print(regex_words)\n",
    "\n",
    "# Tweet Tokenization\n",
    "tweet_tokenizer = TweetTokenizer()\n",
    "tweet = \"Loving the new features in #Python3.12! 😍🔥 Check it out: https://python.org @ThePSF\"\n",
    "tweet_tokens = tweet_tokenizer.tokenize(tweet)\n",
    "print(\"\\nTweet Tokenization:\")\n",
    "print(tweet_tokens)\n"
   ]
  },
  {
   "cell_type": "code",
   "execution_count": null,
   "id": "1c927f43",
   "metadata": {},
   "outputs": [],
   "source": []
  }
 ],
 "metadata": {
  "kernelspec": {
   "display_name": "agents",
   "language": "python",
   "name": "python3"
  },
  "language_info": {
   "codemirror_mode": {
    "name": "ipython",
    "version": 3
   },
   "file_extension": ".py",
   "mimetype": "text/x-python",
   "name": "python",
   "nbconvert_exporter": "python",
   "pygments_lexer": "ipython3",
   "version": "3.13.5"
  }
 },
 "nbformat": 4,
 "nbformat_minor": 5
}
