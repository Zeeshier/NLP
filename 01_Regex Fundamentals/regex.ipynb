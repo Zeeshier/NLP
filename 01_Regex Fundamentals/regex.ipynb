{
 "cells": [
  {
   "cell_type": "markdown",
   "id": "30dc2fa0",
   "metadata": {},
   "source": [
    "# Regex Fundamentals: Patterns, Wildcards & Character Classes"
   ]
  },
  {
   "cell_type": "code",
   "execution_count": 1,
   "id": "ffd96e4b",
   "metadata": {},
   "outputs": [],
   "source": [
    "import re"
   ]
  },
  {
   "cell_type": "code",
   "execution_count": 2,
   "id": "06e37de7",
   "metadata": {},
   "outputs": [],
   "source": [
    "text = \"Magic 9 . username74 aaaaa no_spaces abcdefg\""
   ]
  },
  {
   "cell_type": "markdown",
   "id": "45afd98f",
   "metadata": {},
   "source": [
    "## 1. split : split a string on regex\n",
    "Using \\s+ to split on one or more spaces\n"
   ]
  },
  {
   "cell_type": "code",
   "execution_count": 3,
   "id": "97684b01",
   "metadata": {},
   "outputs": [
    {
     "name": "stdout",
     "output_type": "stream",
     "text": [
      "split result: ['Magic', '9', '.', 'username74', 'aaaaa', 'no_spaces', 'abcdefg']\n"
     ]
    }
   ],
   "source": [
    "split_result = re.split(r'\\s+', text)\n",
    "print(\"split result:\", split_result)"
   ]
  },
  {
   "cell_type": "markdown",
   "id": "657bdbc9",
   "metadata": {},
   "source": [
    "## 2. findall : find all patterns in a string\n",
    "Finding all words (\\w+)\n"
   ]
  },
  {
   "cell_type": "code",
   "execution_count": 4,
   "id": "112533f2",
   "metadata": {},
   "outputs": [
    {
     "name": "stdout",
     "output_type": "stream",
     "text": [
      "findall result: ['Magic', '9', 'username74', 'aaaaa', 'no_spaces', 'abcdefg']\n"
     ]
    }
   ],
   "source": [
    "findall_result = re.findall(r'\\w+', text)\n",
    "print(\"findall result:\", findall_result)"
   ]
  },
  {
   "cell_type": "markdown",
   "id": "4b9583d5",
   "metadata": {},
   "source": [
    "## 3. search : search for a pattern\n",
    "Searching for a digit (\\d)\n"
   ]
  },
  {
   "cell_type": "code",
   "execution_count": 5,
   "id": "83109a90",
   "metadata": {},
   "outputs": [
    {
     "name": "stdout",
     "output_type": "stream",
     "text": [
      "search result: 9\n"
     ]
    }
   ],
   "source": [
    "search_result = re.search(r'\\d', text)\n",
    "print(\"search result:\", search_result.group() if search_result else \"No match\")"
   ]
  },
  {
   "cell_type": "markdown",
   "id": "28461c50",
   "metadata": {},
   "source": [
    "## 4. match : match an entire string or substring based on pattern\n",
    "Matching a lowercase group [a-z] at the start"
   ]
  },
  {
   "cell_type": "code",
   "execution_count": 6,
   "id": "2f1a4515",
   "metadata": {},
   "outputs": [
    {
     "name": "stdout",
     "output_type": "stream",
     "text": [
      "match result: No match\n"
     ]
    }
   ],
   "source": [
    "match_result = re.match(r'[a-z]+', text)\n",
    "print(\"match result:\", match_result.group() if match_result else \"No match\")"
   ]
  },
  {
   "cell_type": "markdown",
   "id": "a2d8054a",
   "metadata": {},
   "source": [
    "## 5. OR \"|\"  for Regex groups\n",
    "\n",
    "* OR is represented using |\n",
    "* You can define a group using ()\n",
    "* You can define explicit character ranges using []"
   ]
  },
  {
   "cell_type": "code",
   "execution_count": 6,
   "id": "6897bc9e",
   "metadata": {},
   "outputs": [
    {
     "data": {
      "text/plain": [
       "['He', 'has', '11', 'cats']"
      ]
     },
     "execution_count": 6,
     "metadata": {},
     "output_type": "execute_result"
    }
   ],
   "source": [
    "match_digits_and_words = r'(\\d+|\\w+)' \n",
    "re.findall(match_digits_and_words, 'He has 11 cats')\n"
   ]
  },
  {
   "cell_type": "markdown",
   "id": "7dbe30ef",
   "metadata": {},
   "source": [
    "## Regex Ranges and Groups"
   ]
  },
  {
   "cell_type": "markdown",
   "id": "4f9ec741",
   "metadata": {},
   "source": [
    "`[A-Za-z]+` : upper and lowercase English  alphabet"
   ]
  },
  {
   "cell_type": "code",
   "execution_count": 7,
   "id": "47774dde",
   "metadata": {},
   "outputs": [
    {
     "name": "stdout",
     "output_type": "stream",
     "text": [
      "['Hello', 'World']\n"
     ]
    }
   ],
   "source": [
    "text = \"Hello World 123\"\n",
    "matches = re.findall(r'[A-Za-z]+', text)\n",
    "print(matches) "
   ]
  },
  {
   "cell_type": "markdown",
   "id": "c8525322",
   "metadata": {},
   "source": [
    "`[0-9]` : numbers from 0 to 9"
   ]
  },
  {
   "cell_type": "code",
   "execution_count": 8,
   "id": "68fedecb",
   "metadata": {},
   "outputs": [
    {
     "name": "stdout",
     "output_type": "stream",
     "text": [
      "['1', '0', '1']\n"
     ]
    }
   ],
   "source": [
    "text = \"Room 101\"\n",
    "matches = re.findall(r'[0-9]', text)\n",
    "print(matches) "
   ]
  },
  {
   "cell_type": "markdown",
   "id": "0a9c575f",
   "metadata": {},
   "source": [
    "`[A-Za-z\\-\\.]+` :  upper and lowercase English alphabet, - and ."
   ]
  },
  {
   "cell_type": "code",
   "execution_count": 9,
   "id": "1a9d1669",
   "metadata": {},
   "outputs": [
    {
     "name": "stdout",
     "output_type": "stream",
     "text": [
      "['Mr.-John.Smith']\n"
     ]
    }
   ],
   "source": [
    "text = \"Mr.-John.Smith\"\n",
    "matches = re.findall(r'[A-Za-z\\-\\.]+', text)\n",
    "print(matches)  "
   ]
  },
  {
   "cell_type": "markdown",
   "id": "55ab2df8",
   "metadata": {},
   "source": [
    "`[a-z]` : a, - and z"
   ]
  },
  {
   "cell_type": "code",
   "execution_count": null,
   "id": "b470c505",
   "metadata": {},
   "outputs": [
    {
     "name": "stdout",
     "output_type": "stream",
     "text": [
      "['a-z']\n"
     ]
    }
   ],
   "source": [
    "text = \"a-z m-z b\"\n",
    "matches = re.findall(r'(a-z)', text)\n",
    "print(matches) "
   ]
  },
  {
   "cell_type": "markdown",
   "id": "adddd4a8",
   "metadata": {},
   "source": [
    "`(\\s+|,)` : spaces or a comma"
   ]
  },
  {
   "cell_type": "code",
   "execution_count": null,
   "id": "322c9bf3",
   "metadata": {},
   "outputs": [
    {
     "name": "stdout",
     "output_type": "stream",
     "text": [
      "['apple', ',', '', ' ', 'banana', '  ', 'orange']\n"
     ]
    }
   ],
   "source": [
    "text = \"apple, banana  orange\"\n",
    "matches = re.split(r'(\\s+|,)', text)\n",
    "print(matches)"
   ]
  }
 ],
 "metadata": {
  "kernelspec": {
   "display_name": "agents",
   "language": "python",
   "name": "python3"
  },
  "language_info": {
   "codemirror_mode": {
    "name": "ipython",
    "version": 3
   },
   "file_extension": ".py",
   "mimetype": "text/x-python",
   "name": "python",
   "nbconvert_exporter": "python",
   "pygments_lexer": "ipython3",
   "version": "3.13.5"
  }
 },
 "nbformat": 4,
 "nbformat_minor": 5
}
