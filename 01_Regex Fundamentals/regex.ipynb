{
 "cells": [
  {
   "cell_type": "markdown",
   "id": "30dc2fa0",
   "metadata": {},
   "source": [
    "# Regex Fundamentals: Patterns, Wildcards & Character Classes"
   ]
  },
  {
   "cell_type": "code",
   "execution_count": 1,
   "id": "ffd96e4b",
   "metadata": {},
   "outputs": [],
   "source": [
    "import re"
   ]
  },
  {
   "cell_type": "code",
   "execution_count": 2,
   "id": "06e37de7",
   "metadata": {},
   "outputs": [],
   "source": [
    "text = \"Magic 9 . username74 aaaaa no_spaces abcdefg\""
   ]
  },
  {
   "cell_type": "markdown",
   "id": "45afd98f",
   "metadata": {},
   "source": [
    "## 1. split : split a string on regex\n",
    "Using \\s+ to split on one or more spaces\n"
   ]
  },
  {
   "cell_type": "code",
   "execution_count": 3,
   "id": "97684b01",
   "metadata": {},
   "outputs": [
    {
     "name": "stdout",
     "output_type": "stream",
     "text": [
      "split result: ['Magic', '9', '.', 'username74', 'aaaaa', 'no_spaces', 'abcdefg']\n"
     ]
    }
   ],
   "source": [
    "split_result = re.split(r'\\s+', text)\n",
    "print(\"split result:\", split_result)"
   ]
  },
  {
   "cell_type": "markdown",
   "id": "657bdbc9",
   "metadata": {},
   "source": [
    "## 2. findall : find all patterns in a string\n",
    "Finding all words (\\w+)\n"
   ]
  },
  {
   "cell_type": "code",
   "execution_count": 4,
   "id": "112533f2",
   "metadata": {},
   "outputs": [
    {
     "name": "stdout",
     "output_type": "stream",
     "text": [
      "findall result: ['Magic', '9', 'username74', 'aaaaa', 'no_spaces', 'abcdefg']\n"
     ]
    }
   ],
   "source": [
    "findall_result = re.findall(r'\\w+', text)\n",
    "print(\"findall result:\", findall_result)"
   ]
  },
  {
   "cell_type": "markdown",
   "id": "4b9583d5",
   "metadata": {},
   "source": [
    "## 3. search : search for a pattern\n",
    "Searching for a digit (\\d)\n"
   ]
  },
  {
   "cell_type": "code",
   "execution_count": 5,
   "id": "83109a90",
   "metadata": {},
   "outputs": [
    {
     "name": "stdout",
     "output_type": "stream",
     "text": [
      "search result: 9\n"
     ]
    }
   ],
   "source": [
    "search_result = re.search(r'\\d', text)\n",
    "print(\"search result:\", search_result.group() if search_result else \"No match\")"
   ]
  },
  {
   "cell_type": "markdown",
   "id": "28461c50",
   "metadata": {},
   "source": [
    "## 4. match : match an entire string or substring based on pattern\n",
    "Matching a lowercase group [a-z] at the start"
   ]
  },
  {
   "cell_type": "code",
   "execution_count": 6,
   "id": "2f1a4515",
   "metadata": {},
   "outputs": [
    {
     "name": "stdout",
     "output_type": "stream",
     "text": [
      "match result: No match\n"
     ]
    }
   ],
   "source": [
    "match_result = re.match(r'[a-z]+', text)\n",
    "print(\"match result:\", match_result.group() if match_result else \"No match\")"
   ]
  }
 ],
 "metadata": {
  "kernelspec": {
   "display_name": "conda",
   "language": "python",
   "name": "python3"
  },
  "language_info": {
   "codemirror_mode": {
    "name": "ipython",
    "version": 3
   },
   "file_extension": ".py",
   "mimetype": "text/x-python",
   "name": "python",
   "nbconvert_exporter": "python",
   "pygments_lexer": "ipython3",
   "version": "3.12.4"
  }
 },
 "nbformat": 4,
 "nbformat_minor": 5
}
