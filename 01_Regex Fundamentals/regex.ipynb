{
 "cells": [
  {
   "cell_type": "markdown",
   "id": "30dc2fa0",
   "metadata": {},
   "source": [
    "# Regex Fundamentals: Patterns, Wildcards & Character Classes"
   ]
  },
  {
   "cell_type": "code",
   "execution_count": 1,
   "id": "ffd96e4b",
   "metadata": {},
   "outputs": [],
   "source": [
    "import re"
   ]
  },
  {
   "cell_type": "code",
   "execution_count": 2,
   "id": "06e37de7",
   "metadata": {},
   "outputs": [
    {
     "data": {
      "text/plain": [
       "<re.Match object; span=(0, 3), match='abc'>"
      ]
     },
     "execution_count": 2,
     "metadata": {},
     "output_type": "execute_result"
    }
   ],
   "source": [
    "re.match('abc', 'abcdef')"
   ]
  },
  {
   "cell_type": "code",
   "execution_count": null,
   "id": "97684b01",
   "metadata": {},
   "outputs": [
    {
     "data": {
      "text/plain": [
       "<re.Match object; span=(0, 2), match='hi'>"
      ]
     },
     "execution_count": 5,
     "metadata": {},
     "output_type": "execute_result"
    }
   ],
   "source": [
    "word_regex = r'\\w+' # words\n",
    "re.match(word_regex,  'hi there')"
   ]
  },
  {
   "cell_type": "code",
   "execution_count": 7,
   "id": "112533f2",
   "metadata": {},
   "outputs": [
    {
     "data": {
      "text/plain": [
       "<re.Match object; span=(0, 1), match='7'>"
      ]
     },
     "execution_count": 7,
     "metadata": {},
     "output_type": "execute_result"
    }
   ],
   "source": [
    "digit_regex = r'\\d' # digit\n",
    "re.match(digit_regex,  '7')"
   ]
  },
  {
   "cell_type": "code",
   "execution_count": 11,
   "id": "83109a90",
   "metadata": {},
   "outputs": [
    {
     "data": {
      "text/plain": [
       "<re.Match object; span=(0, 1), match=' '>"
      ]
     },
     "execution_count": 11,
     "metadata": {},
     "output_type": "execute_result"
    }
   ],
   "source": [
    "space_regex =  r'\\s' #space\n",
    "re.match(space_regex, ' hello world')"
   ]
  }
 ],
 "metadata": {
  "kernelspec": {
   "display_name": "conda",
   "language": "python",
   "name": "python3"
  },
  "language_info": {
   "codemirror_mode": {
    "name": "ipython",
    "version": 3
   },
   "file_extension": ".py",
   "mimetype": "text/x-python",
   "name": "python",
   "nbconvert_exporter": "python",
   "pygments_lexer": "ipython3",
   "version": "3.12.4"
  }
 },
 "nbformat": 4,
 "nbformat_minor": 5
}
